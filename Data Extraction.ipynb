{
 "cells": [
  {
   "cell_type": "code",
   "execution_count": 1,
   "id": "5434264c",
   "metadata": {},
   "outputs": [],
   "source": [
    "COS = \"Courses-of-Study_2020-2021.pdf\"\n",
    "COURSE_DESCRIPTION_PAGE_FIRST = 161\n",
    "COURSE_DESCRIPTION_PAGE_LAST = 370"
   ]
  },
  {
   "cell_type": "code",
   "execution_count": 2,
   "id": "5987ea20",
   "metadata": {},
   "outputs": [],
   "source": [
    "import fitz  # PyMuPDF\n",
    "import re"
   ]
  },
  {
   "cell_type": "code",
   "execution_count": 3,
   "id": "e1573e5f",
   "metadata": {},
   "outputs": [],
   "source": [
    "COURSE_PATTERN = r\"^[A-Z]{3}\\d{3}\"\n",
    "CREDIT_PATTERN = r\"^\\d\"\n",
    "PREREQ_PATTERN = r\"^Pre-requi\"\n",
    "OVERLAP_PATTERN = r\"^Overlaps\"\n",
    "\n",
    "STANDARD_COS_PAGE_X1 = 49\n",
    "STANDARD_COS_PAGE_X2 = 300\n",
    "STANDARD_COS_PAGE_X3 = 596\n",
    "STANDARD_COS_PAGE_Y1 = 84\n",
    "STANDARD_COS_PAGE_Y2 = 790"
   ]
  },
  {
   "cell_type": "code",
   "execution_count": null,
   "id": "1f7617a6",
   "metadata": {},
   "outputs": [],
   "source": []
  },
  {
   "cell_type": "code",
   "execution_count": 4,
   "id": "a342dcfb",
   "metadata": {},
   "outputs": [],
   "source": [
    "def extract_text_by_coordinates(pdf_document, page_number, x1, y1, x2, y2):\n",
    "    page = pdf_document[page_number - 1]\n",
    "    rect = fitz.Rect(x1, y1, x2, y2)\n",
    "    \n",
    "    selected_text = page.get_text(\"text\", clip=rect)\n",
    "    return selected_text\n",
    "\n",
    "def standard_cos_page_scraper(pdf_doc, page):\n",
    "    x1, y1 = STANDARD_COS_PAGE_X1, STANDARD_COS_PAGE_Y1  # Starting coordinates of the rectangle\n",
    "    x2, y2 = STANDARD_COS_PAGE_X2, STANDARD_COS_PAGE_Y2  # Ending coordinates of the rectangle\n",
    "    x3, y3 = STANDARD_COS_PAGE_X2, STANDARD_COS_PAGE_Y1\n",
    "    x4, y4 = STANDARD_COS_PAGE_X3, STANDARD_COS_PAGE_Y2\n",
    "    left_side = extract_text_by_coordinates(pdf_doc, page, x1, y1, x2, y2)\n",
    "    right_side = extract_text_by_coordinates(pdf_doc, page, x3, y3, x4, y4)\n",
    "    return [left_side, right_side]\n",
    "\n",
    "\n",
    "def scrape_courses_description():\n",
    "    scraped_dataset = []\n",
    "    \n",
    "    first_page_i = COURSE_DESCRIPTION_PAGE_FIRST\n",
    "    last_page_i = COURSE_DESCRIPTION_PAGE_LAST\n",
    "\n",
    "\n",
    "    pdf_doc = fitz.open(COS)\n",
    "    for page in range(first_page_i, last_page_i + 1):\n",
    "        scraped_dataset.extend(standard_cos_page_scraper(pdf_doc, page))\n",
    "\n",
    "    pdf_doc.close()\n",
    "    \n",
    "    return scraped_dataset\n",
    "\n",
    "def attach_courses_description(scraped_dataset):\n",
    "    for i in range(len(scraped_dataset)):\n",
    "        data = scraped_dataset[i]\n",
    "        if re.match(COURSE_PATTERN, data):\n",
    "            scraped_dataset[i] = \"\\n\" + data\n",
    "        else :\n",
    "            scraped_dataset[i] = \" \" + data\n",
    "    return \"\".join(scraped_dataset)\n",
    "\n",
    "def string_course_dataset_to_json(single_string_dataset):\n",
    "    all_lines = single_string_dataset.split(\"\\n\")[1:]\n",
    "    all_courses = []\n",
    "    course = {}\n",
    "    is_first_course = True\n",
    "    for line in all_lines:\n",
    "        if re.match(COURSE_PATTERN, line):\n",
    "            if is_first_course: is_first_course = False\n",
    "            else: all_courses.append(course)\n",
    "            course = {\n",
    "                \"code\" : line[:6],\n",
    "                \"name\" : line[7:],\n",
    "                \"description\" : \"\",\n",
    "                \"preReq\" : \"\",\n",
    "                \"overLap\" : \"\",\n",
    "                \"credits\" : \"\"\n",
    "            }\n",
    "        elif re.match(CREDIT_PATTERN, line): course[\"credits\"] = line\n",
    "        elif re.match(PREREQ_PATTERN, line): course[\"preReq\"] = line\n",
    "        elif re.match(OVERLAP_PATTERN, line): course[\"overLap\"] = line\n",
    "        else: course[\"description\"]  += line\n",
    "    all_courses.append(course)\n",
    "\n",
    "    return all_courses\n",
    "\n",
    "\n",
    "\n",
    "def get_all_courses_description():\n",
    "    scraped_dataset : list[str] = scrape_courses_description()\n",
    "    single_string_dataset : str = attach_courses_description(scraped_dataset)\n",
    "    courses_json_list : list[object] = string_course_dataset_to_json(single_string_dataset)\n",
    "    return courses_json_list\n",
    "\n",
    "\n",
    "\n",
    "# -------------------------------------------------------------------------------------------------------------\n",
    "all_courses = get_all_courses_description()\n",
    "# -------------------------------------------------------------------------------------------------------------\n"
   ]
  },
  {
   "cell_type": "code",
   "execution_count": 5,
   "id": "50cfa42d",
   "metadata": {},
   "outputs": [
    {
     "name": "stdout",
     "output_type": "stream",
     "text": [
      "{'code': 'ELL820', 'name': 'Photonic Switching and Networking', 'description': 'Study of different types of networks, the enabling technologies and devices. Broadcast and Select network. Single and Multi-hop networks with example of Access networks, PoNS etc., Wavelength Routing network, virtual topology, Metro and Wide area networks. Wavelength Routing and Assignment, Traffic Grooming and Protection, Network Control and Management, optical packet and burst switching, Network Simulation Tools and Design guidelines.', 'preReq': '', 'overLap': '', 'credits': '3 Credits (3-0-0)'}\n"
     ]
    }
   ],
   "source": [
    "#TODO\n",
    "# modify the pre-req structure and credit structure\n",
    "\n",
    "# COS 20-21\n",
    "# edge-case : page number 365\n",
    "# prereq wrong in HUL275\n",
    "# weird description in SBL724\n",
    "# multiline pre-req in SBL720, SBL708, SBL710\n",
    "# multiline course name in ASD882, and also there is a not allowed condition there in the name\n",
    "# multiline course anem in CRL725\n",
    "# Non-Credit Mandatory field in TXT800\n",
    "# HUL modifications\n",
    "\n",
    "for ele in all_courses:\n",
    "    if ele[\"code\"] == \"ELL820\":\n",
    "        print(ele)"
   ]
  }
 ],
 "metadata": {
  "kernelspec": {
   "display_name": "Python 3 (ipykernel)",
   "language": "python",
   "name": "python3"
  },
  "language_info": {
   "codemirror_mode": {
    "name": "ipython",
    "version": 3
   },
   "file_extension": ".py",
   "mimetype": "text/x-python",
   "name": "python",
   "nbconvert_exporter": "python",
   "pygments_lexer": "ipython3",
   "version": "3.9.7"
  }
 },
 "nbformat": 4,
 "nbformat_minor": 5
}

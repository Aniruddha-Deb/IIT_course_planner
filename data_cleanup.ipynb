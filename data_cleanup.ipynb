{
 "cells": [
  {
   "cell_type": "code",
   "execution_count": 79,
   "id": "524f79cf-4649-4e67-affa-c467475b280a",
   "metadata": {},
   "outputs": [],
   "source": [
    "from openpyxl import Workbook\n",
    "from openpyxl import load_workbook\n",
    "from tqdm.notebook import tqdm\n",
    "from os import listdir\n",
    "import pandas as pd\n",
    "import tabula"
   ]
  },
  {
   "cell_type": "markdown",
   "id": "6cab9df4-e870-4605-bba2-ca031122b14d",
   "metadata": {},
   "source": [
    "## Cleaning up Courses Offered\n",
    "\n",
    "IITD Eacads puts the courses offered up as a very very messy CSV file (they probably export it from the excel themselves) and the excel has a lot of blank merged columns, so it's easier to download the excel file and strip the useless stuff out of it, then export to CSV."
   ]
  },
  {
   "cell_type": "code",
   "execution_count": 71,
   "id": "05b223fe-32e9-446b-b853-ea50c4f23a97",
   "metadata": {},
   "outputs": [],
   "source": [
    "COURSES_OFFERED_RAW_PATH = \"data/courses_offered_raw\"\n",
    "COURSES_OFFERED_CLEAN_PATH = \"data/courses_offered\""
   ]
  },
  {
   "cell_type": "code",
   "execution_count": 72,
   "id": "b618bd03-7348-470c-8796-1a536b0aacff",
   "metadata": {},
   "outputs": [],
   "source": [
    "datasheets = listdir(COURSES_OFFERED_RAW_PATH)"
   ]
  },
  {
   "cell_type": "code",
   "execution_count": 73,
   "id": "f020f8f8-e342-4846-9864-fa14207270f6",
   "metadata": {},
   "outputs": [],
   "source": [
    "def clean_dataframe(df):\n",
    "    df.columns = df.iloc[0]\n",
    "    df = df.drop([0])\n",
    "    df = df.astype({'S.No': 'int32', \"Vacancy\": \"int32\", \"Current Strength\": \"int32\"})\n",
    "    df = df.set_index([\"S.No\"])\n",
    "    df['Instructor'] = df['Instructor'].str.strip()    "
   ]
  },
  {
   "cell_type": "code",
   "execution_count": 74,
   "id": "a5fff032-f429-4c3b-8218-19f789cf1301",
   "metadata": {},
   "outputs": [
    {
     "data": {
      "application/vnd.jupyter.widget-view+json": {
       "model_id": "9c56103be97143e39400d3a0daa34a93",
       "version_major": 2,
       "version_minor": 0
      },
      "text/plain": [
       "  0%|          | 0/7 [00:00<?, ?it/s]"
      ]
     },
     "metadata": {},
     "output_type": "display_data"
    }
   ],
   "source": [
    "# takes around 10.5 seconds per file, so quite slow\n",
    "for name in tqdm(datasheets):\n",
    "    name_no_ext = name.split(\".\")[0]\n",
    "    wb = load_workbook(f\"{COURSES_OFFERED_RAW_PATH}/{name}\")\n",
    "    ws = wb[wb.sheetnames[0]]\n",
    "    cols_to_delete = [3,5,7,10,12,13,16,18,21]\n",
    "    i = 0\n",
    "    for col in cols_to_delete:\n",
    "        ws.delete_cols(col-i)\n",
    "        i += 1\n",
    "    ws.delete_rows(1,4)\n",
    "    df = pd.DataFrame(ws.values)\n",
    "    clean_dataframe(df)\n",
    "    df.to_csv(f\"{COURSES_OFFERED_CLEAN_PATH}/{name_no_ext}.csv\")"
   ]
  },
  {
   "cell_type": "markdown",
   "id": "08229f08-48ac-4265-b148-889e594bef87",
   "metadata": {},
   "source": [
    "## Course Data \n",
    "\n",
    "The course structures have to be taken from the Courses of Study; There's no _clean_ way that I could find of doing this, so it's partly manual labour and partly using some utility scripts to generate the credit structure/timetable/DE/PL data."
   ]
  },
  {
   "cell_type": "code",
   "execution_count": 182,
   "id": "ac3c0095-6557-4e04-be5f-2b08f4e870a6",
   "metadata": {},
   "outputs": [],
   "source": [
    "COS = \"Courses-of-Study_2020-2021.pdf\"\n",
    "\n",
    "PROGRAM_4Y_PAGE = {\n",
    "    \"AM1\": 44,\n",
    "    \"BB1\": 46,\n",
    "    \"CH1\": 48,\n",
    "    \"CE1\": 53,\n",
    "    \"CS1\": 55,\n",
    "    \"EE1\": 60,\n",
    "    \"EE3\": 62,\n",
    "    \"MS1\": 64,\n",
    "    \"ME1\": 66,\n",
    "    \"ME2\": 68,\n",
    "    \"MT1\": 70,\n",
    "    \"PH1\": 75,\n",
    "    \"TT1\": 77\n",
    "}\n",
    "PROGRAM_5Y_PAGE = {\n",
    "    \"CH7\": 50,\n",
    "    \"CS5\": 57,\n",
    "    \"MT6\": 72\n",
    "}\n",
    "\n",
    "COLUMNS_LHS = [80, 257, 265, 276, 287]\n",
    "AREA_LHS = [220, 40, 800, 297]\n",
    "\n",
    "COLUMNS_RHS = [343, 511, 520, 530, 540]\n",
    "AREA_RHS = [94, 309, 800, 560]\n",
    "\n",
    "COLUMNS_CRED_STRUCT = [242]\n",
    "AREA_CRED_STRUCT_4Y = [106, 40, 220, 295]\n",
    "AREA_CRED_STRUCT_5Y = [106, 40, 290, 295]\n",
    "\n",
    "CPLAN_IDX_4Y = [0, 3, 7, 10, 13, 16, 19, 22]\n",
    "\n",
    "COMMON_COURSES = \"\"\"\n",
    "    <eas>\n",
    "      <course>APL100</course>\n",
    "      <course>CVL100</course>\n",
    "      <course>COL100</course>\n",
    "      <course>ELL101</course>\n",
    "      <course>MCP100</course>\n",
    "      <course>MCP101</course>\n",
    "    </eas>\n",
    "    <bs>\n",
    "      <course>CML101</course>\n",
    "      <course>CMP100</course>\n",
    "      <course>MTL100</course>\n",
    "      <course>MTL101</course>\n",
    "      <course>PYL101</course>\n",
    "      <course>PYP100</course>\n",
    "      <course>SBL100</course>\n",
    "    </bs>\n",
    "\"\"\"\n",
    "\n",
    "FILE_LOC = \"data/course_plans_temp\""
   ]
  },
  {
   "cell_type": "code",
   "execution_count": 208,
   "id": "d1f9011d-78cc-4190-a202-edfa874abb4f",
   "metadata": {},
   "outputs": [
    {
     "data": {
      "application/vnd.jupyter.widget-view+json": {
       "model_id": "40864eae2aa341eebf63b941bcea59b6",
       "version_major": 2,
       "version_minor": 0
      },
      "text/plain": [
       "  0%|          | 0/13 [00:00<?, ?it/s]"
      ]
     },
     "metadata": {},
     "output_type": "display_data"
    }
   ],
   "source": [
    "for dep in tqdm(PROGRAM_4Y_PAGE):\n",
    "    strlist = []\n",
    "    pgno = PROGRAM_4Y_PAGE[dep]\n",
    "    cred_struct = tabula.read_pdf(COS, area=AREA_CRED_STRUCT_4Y, columns=[242], pages=[pgno])[0]\n",
    "    cs = {'bs': 24, 'eas': 19, 'huss': 15}\n",
    "    cs['pl'] = cred_struct.iloc[4][1]\n",
    "    cs['dc'] = cred_struct.iloc[6][1]\n",
    "    cs['de'] = cred_struct.iloc[7][1]\n",
    "    cs['oe'] = cred_struct.iloc[8][1]\n",
    "    strlist.append(f'<program name=\"{dep}\" type=\"4y\">\\n  <credits>\\n')\n",
    "    for key in cs:\n",
    "        strlist.append(f\"    <{key}>{cs[key]:g}</{key}>\\n\")\n",
    "    strlist.append('  </credits>\\n  <courses>')\n",
    "    strlist.append(COMMON_COURSES)\n",
    "    strlist.append('  </courses>\\n  <recommended>\\n')\n",
    "    \n",
    "    plan = tabula.read_pdf(COS, pages=[pgno+1])[0]\n",
    "    for (i,sem) in zip(range(8),CPLAN_IDX_4Y):\n",
    "        strlist.append(f'    <sem num=\"{i+1}\">\\n')\n",
    "        for c in plan.iloc[sem][1:10]:\n",
    "            if not pd.isna(c):\n",
    "                course = c.replace(\" \",\"\")\n",
    "                strlist.append(f'      <course>{course}</course>\\n')\n",
    "        strlist.append(f'    </sem>\\n')\n",
    "    strlist.append('  </recommended>\\n</program>')\n",
    "        \n",
    "    with open(f\"{FILE_LOC}/{dep}.xml\", \"w\") as f:\n",
    "        f.write(\"\".join(strlist))"
   ]
  },
  {
   "cell_type": "markdown",
   "id": "c254a256-3847-4e42-8439-f7529b4494a5",
   "metadata": {},
   "source": [
    "### Scratch"
   ]
  },
  {
   "cell_type": "code",
   "execution_count": 185,
   "id": "70d68c86-5915-4c99-834c-a44324f2d698",
   "metadata": {},
   "outputs": [],
   "source": [
    "df = tabula.read_pdf(COS, pages=[61])[0]"
   ]
  },
  {
   "cell_type": "code",
   "execution_count": 175,
   "id": "01189ef0-e36d-46bc-875b-3527027c98cf",
   "metadata": {},
   "outputs": [
    {
     "data": {
      "text/html": [
       "<div>\n",
       "<style scoped>\n",
       "    .dataframe tbody tr th:only-of-type {\n",
       "        vertical-align: middle;\n",
       "    }\n",
       "\n",
       "    .dataframe tbody tr th {\n",
       "        vertical-align: top;\n",
       "    }\n",
       "\n",
       "    .dataframe thead th {\n",
       "        text-align: right;\n",
       "    }\n",
       "</style>\n",
       "<table border=\"1\" class=\"dataframe\">\n",
       "  <thead>\n",
       "    <tr style=\"text-align: right;\">\n",
       "      <th></th>\n",
       "      <th>Course Category</th>\n",
       "      <th>Credits</th>\n",
       "    </tr>\n",
       "  </thead>\n",
       "  <tbody>\n",
       "    <tr>\n",
       "      <th>0</th>\n",
       "      <td>Institute Core Courses</td>\n",
       "      <td>NaN</td>\n",
       "    </tr>\n",
       "    <tr>\n",
       "      <th>1</th>\n",
       "      <td>Basic Sciences (BS)</td>\n",
       "      <td>24.0</td>\n",
       "    </tr>\n",
       "    <tr>\n",
       "      <th>2</th>\n",
       "      <td>Engineering Arts and Science (EAS)</td>\n",
       "      <td>19.0</td>\n",
       "    </tr>\n",
       "    <tr>\n",
       "      <th>3</th>\n",
       "      <td>Humanities and Social Sciences (HuSS)</td>\n",
       "      <td>15.0</td>\n",
       "    </tr>\n",
       "    <tr>\n",
       "      <th>4</th>\n",
       "      <td>Programme-linked Courses</td>\n",
       "      <td>15.0</td>\n",
       "    </tr>\n",
       "    <tr>\n",
       "      <th>5</th>\n",
       "      <td>Departmental Courses</td>\n",
       "      <td>NaN</td>\n",
       "    </tr>\n",
       "    <tr>\n",
       "      <th>6</th>\n",
       "      <td>Departmental Core</td>\n",
       "      <td>60.0</td>\n",
       "    </tr>\n",
       "    <tr>\n",
       "      <th>7</th>\n",
       "      <td>Departmental Electives</td>\n",
       "      <td>10.0</td>\n",
       "    </tr>\n",
       "    <tr>\n",
       "      <th>8</th>\n",
       "      <td>Open Category Courses</td>\n",
       "      <td>10.0</td>\n",
       "    </tr>\n",
       "    <tr>\n",
       "      <th>9</th>\n",
       "      <td>Total Graded Credit requirement</td>\n",
       "      <td>153.0</td>\n",
       "    </tr>\n",
       "  </tbody>\n",
       "</table>\n",
       "</div>"
      ],
      "text/plain": [
       "                         Course Category  Credits\n",
       "0                 Institute Core Courses      NaN\n",
       "1                    Basic Sciences (BS)     24.0\n",
       "2     Engineering Arts and Science (EAS)     19.0\n",
       "3  Humanities and Social Sciences (HuSS)     15.0\n",
       "4               Programme-linked Courses     15.0\n",
       "5                   Departmental Courses      NaN\n",
       "6                      Departmental Core     60.0\n",
       "7                 Departmental Electives     10.0\n",
       "8                  Open Category Courses     10.0\n",
       "9        Total Graded Credit requirement    153.0"
      ]
     },
     "execution_count": 175,
     "metadata": {},
     "output_type": "execute_result"
    }
   ],
   "source": [
    "cred_struct"
   ]
  },
  {
   "cell_type": "code",
   "execution_count": 202,
   "id": "5aa0d4e0-b93f-4cde-965e-cb17a0d10bcf",
   "metadata": {},
   "outputs": [
    {
     "name": "stdout",
     "output_type": "stream",
     "text": [
      "DE 3\n",
      "OC2\n",
      "OC3\n",
      "HUL3XX\n"
     ]
    }
   ],
   "source": [
    "#print(df.dtypes)\n",
    "for c in df.iloc[22][1:10]:\n",
    "    if not pd.isna(c):\n",
    "        print(c)"
   ]
  },
  {
   "cell_type": "code",
   "execution_count": null,
   "id": "f4f98549-3a9a-4551-996f-b7e3bba02027",
   "metadata": {},
   "outputs": [],
   "source": []
  }
 ],
 "metadata": {
  "kernelspec": {
   "display_name": "Python 3",
   "language": "python",
   "name": "python3"
  },
  "language_info": {
   "codemirror_mode": {
    "name": "ipython",
    "version": 3
   },
   "file_extension": ".py",
   "mimetype": "text/x-python",
   "name": "python",
   "nbconvert_exporter": "python",
   "pygments_lexer": "ipython3",
   "version": "3.9.0"
  }
 },
 "nbformat": 4,
 "nbformat_minor": 5
}
